{
  "nbformat": 4,
  "nbformat_minor": 0,
  "metadata": {
    "colab": {
      "provenance": [],
      "authorship_tag": "ABX9TyOizlkDkuHNJbq4sqSwsb75",
      "include_colab_link": true
    },
    "kernelspec": {
      "name": "python3",
      "display_name": "Python 3"
    },
    "language_info": {
      "name": "python"
    }
  },
  "cells": [
    {
      "cell_type": "markdown",
      "metadata": {
        "id": "view-in-github",
        "colab_type": "text"
      },
      "source": [
        "<a href=\"https://colab.research.google.com/github/Maha2646/maha2646.github.io/blob/main/Untitled1.ipynb\" target=\"_parent\"><img src=\"https://colab.research.google.com/assets/colab-badge.svg\" alt=\"Open In Colab\"/></a>"
      ]
    },
    {
      "cell_type": "code",
      "execution_count": null,
      "metadata": {
        "id": "TXcqPcJWPZ-k"
      },
      "outputs": [],
      "source": []
    },
    {
      "cell_type": "code",
      "source": [
        "import numpy as np\n",
        "import pandas as pd\n",
        "from sklearn.datasets import make_classification\n",
        "from sklearn.model_selection import train_test_split, KFold\n",
        "from sklearn.preprocessing import StandardScaler, LabelEncoder\n",
        "\n",
        "# Step 1: Generate random dataset\n",
        "X, y = make_classification(n_samples=1000, n_features=15, n_classes=2, random_state=42)\n",
        "\n",
        "# Step 2: Load and visualize data\n",
        "df = pd.DataFrame(X, columns=[f'Feature_{i}' for i in range(1, 16)])\n",
        "df['Target'] = y\n",
        "print(\"First few rows of the dataset:\")\n",
        "print(df.head())\n",
        "\n",
        "# Step 3: Check and replace missing values (in this case, there are no missing values)\n",
        "print(\"Checking for missing values:\")\n",
        "print(df.isnull().sum())\n",
        "\n",
        "# Step 4: Encode categorical data (in this case, there are no categorical features)\n",
        "# If categorical features exist, you would use LabelEncoder or OneHotEncoder to encode them.\n",
        "# Step 5: Splitting the dataset into Training and Test set\n",
        "X_train, X_test, y_train, y_test = train_test_split(df.drop('Target', axis=1), df['Target'], test_size=0.2, random_state=42)\n",
        "\n",
        "# Step 6: Splitting the dataset into k-folds\n",
        "k = 5\n",
        "kf = KFold(n_splits=k, shuffle=True, random_state=42)\n",
        "fold_indices = list(kf.split(df))\n",
        "\n",
        "# Step 7: Feature scaling\n",
        "scaler = StandardScaler()\n",
        "X_train_scaled = scaler.fit_transform(X_train)\n",
        "X_test_scaled = scaler.transform(X_test)\n",
        "\n",
        "# Let's print out some information to verify everything\n",
        "print(\"Shape of X_train:\", X_train.shape)\n",
        "print(\"Shape of X_test:\", X_test.shape)\n",
        "print(\"Number of folds:\", k)\n",
        "print(\"Number of samples in each fold:\")\n",
        "for i, (_, fold_indices) in enumerate(fold_indices):\n",
        "    print(f\"Fold {i+1}: {len(fold_indices)} samples\")\n",
        "\n"
      ],
      "metadata": {
        "colab": {
          "base_uri": "https://localhost:8080/"
        },
        "id": "eYr35euCPy7D",
        "outputId": "788dba72-4c0c-4c3f-a8cc-439968853a61"
      },
      "execution_count": 1,
      "outputs": [
        {
          "output_type": "stream",
          "name": "stdout",
          "text": [
            "First few rows of the dataset:\n",
            "   Feature_1  Feature_2  Feature_3  Feature_4  Feature_5  Feature_6  \\\n",
            "0   0.572471   1.685432  -1.460302   0.650966   0.418515  -0.076760   \n",
            "1  -0.231060  -0.338478   0.864070  -1.191875   1.419456  -0.078133   \n",
            "2   1.089905  -0.173771  -0.802199  -0.571184  -0.816155   0.433768   \n",
            "3   0.238171   0.653312  -0.072858  -0.840772  -0.987866   0.237337   \n",
            "4   0.243657  -1.091077  -3.007632  -1.090208   1.284096   0.694764   \n",
            "\n",
            "   Feature_7  Feature_8  Feature_9  Feature_10  Feature_11  Feature_12  \\\n",
            "0   0.923045  -0.117981  -0.496651    0.187942    0.422046   -0.814153   \n",
            "1   0.126459   1.943529  -0.915477    0.306135   -0.199075    1.178866   \n",
            "2   0.301961   0.043829  -1.455055   -1.147160    0.476887    1.868603   \n",
            "3   0.085513   0.220631   0.723038    1.889279    0.489983   -0.928926   \n",
            "4  -2.386930  -0.985540  -2.426392    0.571179    0.515074    1.097300   \n",
            "\n",
            "   Feature_13  Feature_14  Feature_15  Target  \n",
            "0    0.406094   -1.400229   -1.165202       0  \n",
            "1   -0.502869    0.494788    1.311162       1  \n",
            "2   -0.547408   -0.827924    0.034808       1  \n",
            "3   -1.715708   -1.152569   -0.504129       0  \n",
            "4   -0.495878   -0.566351   -1.565648       0  \n",
            "Checking for missing values:\n",
            "Feature_1     0\n",
            "Feature_2     0\n",
            "Feature_3     0\n",
            "Feature_4     0\n",
            "Feature_5     0\n",
            "Feature_6     0\n",
            "Feature_7     0\n",
            "Feature_8     0\n",
            "Feature_9     0\n",
            "Feature_10    0\n",
            "Feature_11    0\n",
            "Feature_12    0\n",
            "Feature_13    0\n",
            "Feature_14    0\n",
            "Feature_15    0\n",
            "Target        0\n",
            "dtype: int64\n",
            "Shape of X_train: (800, 15)\n",
            "Shape of X_test: (200, 15)\n",
            "Number of folds: 5\n",
            "Number of samples in each fold:\n",
            "Fold 1: 200 samples\n",
            "Fold 2: 200 samples\n",
            "Fold 3: 200 samples\n",
            "Fold 4: 200 samples\n",
            "Fold 5: 200 samples\n"
          ]
        }
      ]
    }
  ]
}
