{
  "nbformat": 4,
  "nbformat_minor": 0,
  "metadata": {
    "colab": {
      "provenance": [],
      "authorship_tag": "ABX9TyM+sJfIVrvq/O1mvc4KklAF",
      "include_colab_link": true
    },
    "kernelspec": {
      "name": "python3",
      "display_name": "Python 3"
    },
    "language_info": {
      "name": "python"
    }
  },
  "cells": [
    {
      "cell_type": "markdown",
      "metadata": {
        "id": "view-in-github",
        "colab_type": "text"
      },
      "source": [
        "<a href=\"https://colab.research.google.com/github/Maha2646/maha2646.github.io/blob/main/Untitled1.ipynb\" target=\"_parent\"><img src=\"https://colab.research.google.com/assets/colab-badge.svg\" alt=\"Open In Colab\"/></a>"
      ]
    },
    {
      "cell_type": "code",
      "execution_count": 17,
      "metadata": {
        "id": "fJHQ-HuPsWZu",
        "outputId": "ca5f6517-c981-42ad-d1b4-b8b650798b83",
        "colab": {
          "base_uri": "https://localhost:8080/"
        }
      },
      "outputs": [
        {
          "output_type": "stream",
          "name": "stdout",
          "text": [
            "Frequent itemset L: [{'apple', 'banana', 'orange'}]\n"
          ]
        }
      ],
      "source": [
        "from itertools import combinations\n",
        "from collections import Counter\n",
        "\n",
        "# Transaction database\n",
        "transactions = [\n",
        "    {'apple', 'banana', 'orange'},\n",
        "    {'banana', 'orange'},\n",
        "    {'apple', 'banana'},\n",
        "    {'banana', 'orange'},\n",
        "    {'apple', 'banana', 'orange'}\n",
        "]\n",
        "\n",
        "# Minimum support threshold\n",
        "min_support = 2\n",
        "\n",
        "# Count item occurrences\n",
        "item_counts = Counter(item for transaction in transactions for item in transaction)\n",
        "\n",
        "# Find frequent items\n",
        "frequent_items = {item for item, count in item_counts.items() if count >= min_support}\n",
        "\n",
        "# Find frequent itemsets\n",
        "frequent_itemsets = [set(itemset) for itemset in combinations(frequent_items, 3)]\n",
        "\n",
        "print(\"Frequent itemset L:\", frequent_itemsets)"
      ]
    },
    {
      "cell_type": "code",
      "source": [
        "# Given sets\n",
        "S = {'apple', 'banana', 'orange'}\n",
        "S_0 = {'apple', 'banana'}\n",
        "\n",
        "# Support calculation for S and S_0\n",
        "support_S = sum(1 for transaction in transactions if S.issubset(transaction))\n",
        "support_S_0 = sum(1 for transaction in transactions if S_0.issubset(transaction))\n",
        "\n",
        "print(\"Support of S:\", support_S)\n",
        "print(\"Support of S_0:\", support_S_0)\n"
      ],
      "metadata": {
        "colab": {
          "base_uri": "https://localhost:8080/"
        },
        "id": "kwxfuygnvUP5",
        "outputId": "3d0d2102-c71a-408c-8706-cbadc82102e2"
      },
      "execution_count": 18,
      "outputs": [
        {
          "output_type": "stream",
          "name": "stdout",
          "text": [
            "Support of S: 2\n",
            "Support of S_0: 3\n"
          ]
        }
      ]
    },
    {
      "cell_type": "code",
      "source": [
        "# Given sets\n",
        "S = {'apple', 'banana', 'orange'}\n",
        "S_0 = {'apple', 'banana'}\n",
        "\n",
        "# Confidence calculation\n",
        "confidence_S = support_S / support_S_0\n",
        "confidence_S_0 = support_S_0 / support_S\n",
        "\n",
        "print(\"Confidence of S => (S - S_0):\", confidence_S)\n",
        "print(\"Confidence of S_0 => (S - S_0):\", confidence_S_0)\n"
      ],
      "metadata": {
        "colab": {
          "base_uri": "https://localhost:8080/"
        },
        "id": "6QyTe83bvbbr",
        "outputId": "0de63498-de7a-48da-d9aa-144e4e083e92"
      },
      "execution_count": 19,
      "outputs": [
        {
          "output_type": "stream",
          "name": "stdout",
          "text": [
            "Confidence of S => (S - S_0): 0.6666666666666666\n",
            "Confidence of S_0 => (S - S_0): 1.5\n"
          ]
        }
      ]
    },
    {
      "cell_type": "code",
      "source": [
        "def generate_partitions(transactions, n):\n",
        "    partition_size = len(transactions) // n\n",
        "    partitions = [transactions[i:i+partition_size] for i in range(0, len(transactions), partition_size)]\n",
        "    return partitions\n",
        "\n",
        "def is_frequent(itemset, transactions, min_support):\n",
        "    support_count = sum(1 for transaction in transactions if all(item in transaction for item in itemset))\n",
        "    return support_count >= min_support\n",
        "\n",
        "def apriori_partitioning(transactions, min_support, n):\n",
        "    partitions = generate_partitions(transactions, n)\n",
        "    frequent_itemsets = set()\n",
        "\n",
        "    for partition in partitions:\n",
        "        partition_frequent_itemsets = set()\n",
        "        for item in partition[0]:\n",
        "            if is_frequent({item}, partition, min_support):\n",
        "                partition_frequent_itemsets.add(item)\n",
        "\n",
        "        frequent_itemsets.update(partition_frequent_itemsets)\n",
        "\n",
        "    return frequent_itemsets\n",
        "\n",
        "# Example usage\n",
        "transactions = [\n",
        "    ['apple', 'banana', 'cherry'],\n",
        "    ['banana', 'orange'],\n",
        "    ['apple', 'banana'],\n",
        "    ['apple', 'cherry']\n",
        "]\n",
        "min_support = 2\n",
        "num_partitions = 2\n",
        "\n",
        "frequent_itemsets = apriori_partitioning(transactions, min_support, num_partitions)\n",
        "print(\"Frequent Itemsets:\", frequent_itemsets)\n"
      ],
      "metadata": {
        "colab": {
          "base_uri": "https://localhost:8080/"
        },
        "id": "nrN_Ea--Yw-I",
        "outputId": "7105f1b0-3a34-4e5a-ee29-c5fcf088d151"
      },
      "execution_count": 20,
      "outputs": [
        {
          "output_type": "stream",
          "name": "stdout",
          "text": [
            "Frequent Itemsets: {'apple', 'banana'}\n"
          ]
        }
      ]
    }
  ]
}